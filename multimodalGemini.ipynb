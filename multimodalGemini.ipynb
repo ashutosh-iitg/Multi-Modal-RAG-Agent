{
 "cells": [
  {
   "cell_type": "markdown",
   "metadata": {},
   "source": [
    "# Import Dependencies"
   ]
  },
  {
   "cell_type": "code",
   "execution_count": 1,
   "metadata": {},
   "outputs": [
    {
     "name": "stderr",
     "output_type": "stream",
     "text": [
      "/Users/ashutosh/Library/Python/3.9/lib/python/site-packages/urllib3/__init__.py:35: NotOpenSSLWarning: urllib3 v2 only supports OpenSSL 1.1.1+, currently the 'ssl' module is compiled with 'LibreSSL 2.8.3'. See: https://github.com/urllib3/urllib3/issues/3020\n",
      "  warnings.warn(\n"
     ]
    }
   ],
   "source": [
    "import os\n",
    "import vertexai"
   ]
  },
  {
   "cell_type": "code",
   "execution_count": 2,
   "metadata": {},
   "outputs": [
    {
     "name": "stdout",
     "output_type": "stream",
     "text": [
      "Updated property [core/project].\n",
      "Your browser has been opened to visit:\n",
      "\n",
      "    https://accounts.google.com/o/oauth2/auth?response_type=code&client_id=764086051850-6qr4p6gpi6hn506pt8ejuq83di341hur.apps.googleusercontent.com&redirect_uri=http%3A%2F%2Flocalhost%3A8085%2F&scope=openid+https%3A%2F%2Fwww.googleapis.com%2Fauth%2Fuserinfo.email+https%3A%2F%2Fwww.googleapis.com%2Fauth%2Fcloud-platform+https%3A%2F%2Fwww.googleapis.com%2Fauth%2Fsqlservice.login&state=vSSybslvOjeQUnbnULlWoJDk3Xd2MT&access_type=offline&code_challenge=jhrJeVXDAbgOocOMzCuxYATNrhjm6xcVlfN2gxitmX8&code_challenge_method=S256\n",
      "\n",
      "\n",
      "Credentials saved to file: [/Users/ashutosh/.config/gcloud/application_default_credentials.json]\n",
      "\n",
      "These credentials will be used by any library that requests Application Default Credentials (ADC).\n",
      "\n",
      "Quota project \"bot-1-361805\" was added to ADC which can be used by Google client libraries for billing and quota. Note that some services may still bill the project owning the resource.\n"
     ]
    }
   ],
   "source": [
    "!gcloud config set project bot-1-361805\n",
    "!gcloud auth application-default login -q"
   ]
  },
  {
   "cell_type": "markdown",
   "metadata": {},
   "source": [
    "# Prepare and Load Data"
   ]
  },
  {
   "cell_type": "code",
   "execution_count": 3,
   "metadata": {},
   "outputs": [],
   "source": [
    "PROJECT_ID = os.environ.get('PROJECT_ID')\n",
    "REGION = os.environ.get('REGION')\n",
    "# VERTEX_API_KEY = os.environ.get('VERTEX_API_KEY')"
   ]
  },
  {
   "cell_type": "code",
   "execution_count": 4,
   "metadata": {},
   "outputs": [],
   "source": [
    "vertexai.init(project=PROJECT_ID, location=REGION)"
   ]
  },
  {
   "cell_type": "code",
   "execution_count": 5,
   "metadata": {},
   "outputs": [],
   "source": [
    "import logging\n",
    "import zipfile\n",
    "import requests\n",
    "\n",
    "logging.basicConfig(level=logging.INFO)\n",
    "\n",
    "data_url = 'https://storage.googleapis.com/benchmarks-artifacts/langchain-docs-benchmarking/cj.zip'\n",
    "filename = 'cj.zip'\n",
    "with open(filename, 'wb') as f:\n",
    "    response = requests.get(data_url)\n",
    "    f.write(response.content)\n",
    "\n",
    "with zipfile.ZipFile(filename, 'r') as zip_ref:\n",
    "    zip_ref.extractall('.')"
   ]
  },
  {
   "cell_type": "code",
   "execution_count": 6,
   "metadata": {},
   "outputs": [],
   "source": [
    "from langchain_community.document_loaders import PyPDFLoader\n",
    "\n",
    "loader = PyPDFLoader('./cj/cj.pdf')\n",
    "docs = loader.load()\n",
    "tables = []\n",
    "texts = [d.page_content for d in docs]"
   ]
  },
  {
   "cell_type": "code",
   "execution_count": 7,
   "metadata": {},
   "outputs": [
    {
     "data": {
      "text/plain": [
       "'11/14/23, 8:35 PM Clouded Judgement 11.10.23 - by Jamin Ball\\nhttps://cloudedjudgement.substack.com/p/clouded-judgement-111023 1/21Clouded Judgement 11.10.23 - OpenAI\\nUpdates + Datadog Gives the All-Clear?\\nJAMIN BALL\\nNOV 10, 2023\\n2 Share\\nEvery week I’ll provide updates on the latest trends in cloud so\\x00ware companies. Follow along to\\nstay up to date!\\nOpen AI U pdates\\nOpenAI had their big developer day this week, and I wanted to call out two key announcements\\n(and trends): increasing context windows and decreasing costs.\\nWhen I think about the monetization of AI (and which “layers” monetize \\x00rst) I’ve always\\nthought it would follow the below order, with each layer lagging the one that comes before it.\\n1. Raw silicon (chips like Nvidia bought in large quantities to build out infra to service\\nupcoming demand).\\n2. Model providers (OpenAI, Anthropic, etc as companies start building out AI).\\n35\\nType your email... Subscribe'"
      ]
     },
     "execution_count": 7,
     "metadata": {},
     "output_type": "execute_result"
    }
   ],
   "source": [
    "texts[0]"
   ]
  },
  {
   "cell_type": "code",
   "execution_count": 8,
   "metadata": {},
   "outputs": [
    {
     "data": {
      "text/plain": [
       "21"
      ]
     },
     "execution_count": 8,
     "metadata": {},
     "output_type": "execute_result"
    }
   ],
   "source": [
    "len(texts)"
   ]
  },
  {
   "cell_type": "markdown",
   "metadata": {},
   "source": [
    "# Generate Text Summaries"
   ]
  },
  {
   "cell_type": "code",
   "execution_count": 9,
   "metadata": {},
   "outputs": [],
   "source": [
    "from langchain_google_vertexai import VertexAI, ChatVertexAI, VertexAIEmbeddings\n",
    "from langchain.prompts import PromptTemplate\n",
    "from langchain_core.messages import AIMessage\n",
    "from langchain_core.output_parsers import StrOutputParser\n",
    "from langchain_core.runnables import RunnableLambda"
   ]
  },
  {
   "cell_type": "code",
   "execution_count": 10,
   "metadata": {},
   "outputs": [],
   "source": [
    "def generate_text_summaries(texts, tables, summarize_texts=False):\n",
    "    \"\"\"\n",
    "    Generates text and table summaries for retrieval.\n",
    "    Args:\n",
    "        texts (list): List of text elements to be summarized.\n",
    "        tables (list): List of table elements to be summarized.\n",
    "        summarize_texts (bool, optional): Flag indicating whether to summarize texts. Defaults to False.\n",
    "    Returns:\n",
    "        tuple: A tuple containing the text summaries and table summaries.\n",
    "    \"\"\"\n",
    "\n",
    "    \n",
    "    # Prompt\n",
    "    prompt_text = \"\"\"You are an assistant tasked with summarizing tables and text for retrieval. \\\n",
    "        These summaries will be embedded and used to retrieve the raw text or table elements. \\\n",
    "        Give a concise summary of the table or text that is well optimized for retrieval. Table or text: {element} \"\"\"\n",
    "    prompt = PromptTemplate.from_template(prompt_text)\n",
    "    empty_response = RunnableLambda(\n",
    "        lambda x: AIMessage(content=\"Error processing Document.\")\n",
    "    )\n",
    "\n",
    "    # Text summary chain\n",
    "    model = VertexAI(\n",
    "        temperature=0,\n",
    "        model_name=\"gemini-pro\",\n",
    "        max_output_tokens = 1024\n",
    "    ).with_fallbacks([empty_response])\n",
    "\n",
    "    summarize_chain = {\"element\": lambda x: x} | prompt | model | StrOutputParser()\n",
    "\n",
    "    # Initialize empty summaries\n",
    "    text_summaries = []\n",
    "    table_summaries = []\n",
    "\n",
    "    # Apply to text if texts are provided and summarization is requested\n",
    "    if texts and summarize_texts:\n",
    "        text_summaries = summarize_chain.batch(texts, {\"max_concurrency\": 1})\n",
    "    elif texts:\n",
    "        text_summaries = texts\n",
    "\n",
    "    # Apply to tables if tables are provided\n",
    "    if tables:\n",
    "        table_summaries = summarize_chain.batch(tables, {\"max_concurrency\": 1})\n",
    "\n",
    "    return text_summaries, table_summaries"
   ]
  },
  {
   "cell_type": "code",
   "execution_count": 11,
   "metadata": {},
   "outputs": [
    {
     "name": "stderr",
     "output_type": "stream",
     "text": [
      "WARNING: All log messages before absl::InitializeLog() is called are written to STDERR\n",
      "I0000 00:00:1723109057.887949 1543806 check_gcp_environment_no_op.cc:29] ALTS: Platforms other than Linux and Windows are not supported\n"
     ]
    },
    {
     "data": {
      "text/plain": [
       "21"
      ]
     },
     "execution_count": 11,
     "metadata": {},
     "output_type": "execute_result"
    }
   ],
   "source": [
    "# Get text and table summaries\n",
    "text_summaries, table_summaries = generate_text_summaries(texts, tables, summarize_texts=True)\n",
    "len(text_summaries)"
   ]
  },
  {
   "cell_type": "code",
   "execution_count": 12,
   "metadata": {},
   "outputs": [
    {
     "data": {
      "text/plain": [
       "'## OpenAI Updates and Datadog\\n\\n**OpenAI Developer Day Announcements:**\\n\\n* **Increased context windows:** This allows models to process more information and generate more comprehensive responses.\\n* **Decreased costs:** This makes OpenAI\\'s models more accessible to a wider range of users.\\n\\n**Monetization of AI:**\\n\\n* The author believes that AI monetization will follow a specific order, with each layer lagging behind the one before it.\\n* The order is as follows:\\n    * Raw silicon (e.g., Nvidia chips)\\n    * Model providers (e.g., OpenAI, Anthropic)\\n    * Applications (e.g., Datadog)\\n    * End users (e.g., businesses using AI-powered tools)\\n\\n**Datadog:**\\n\\n* Datadog is an application that uses AI to monitor and analyze cloud infrastructure.\\n* The author notes that Datadog has given the \"all-clear\" for OpenAI\\'s recent updates, suggesting that they are not a cause for concern. \\n'"
      ]
     },
     "execution_count": 12,
     "metadata": {},
     "output_type": "execute_result"
    }
   ],
   "source": [
    "text_summaries[0]"
   ]
  },
  {
   "cell_type": "markdown",
   "metadata": {},
   "source": [
    "# Generate Image Summaries"
   ]
  },
  {
   "cell_type": "code",
   "execution_count": 13,
   "metadata": {},
   "outputs": [],
   "source": [
    "import base64\n",
    "\n",
    "from langchain_core.messages import HumanMessage"
   ]
  },
  {
   "cell_type": "code",
   "execution_count": 14,
   "metadata": {},
   "outputs": [],
   "source": [
    "def encode_image(image_path):\n",
    "    \"\"\"\n",
    "    Encodes the image located at the given image_path into a base64 encoded string.\n",
    "    Parameters:\n",
    "    image_path (str): The path to the image file.\n",
    "    Returns:\n",
    "    str: The base64 encoded string representation of the image.\n",
    "    \"\"\"\n",
    "    \n",
    "    with open(image_path, \"rb\") as image_file:\n",
    "        encoded_string = base64.b64encode(image_file.read()).decode(\"utf-8\")\n",
    "    return encoded_string"
   ]
  },
  {
   "cell_type": "code",
   "execution_count": 15,
   "metadata": {},
   "outputs": [],
   "source": [
    "def image_summarize(image_base64, prompt):\n",
    "    \"\"\"\n",
    "    Summarizes an image using a pre-trained Gemini Pro Vision model.\n",
    "    Args:\n",
    "        image_base64 (str): The base64 encoded image.\n",
    "        prompt (str): The prompt for generating the image summary.\n",
    "    Returns:\n",
    "        str: The generated image summary.\n",
    "    \"\"\"\n",
    "\n",
    "    model = ChatVertexAI(model_name=\"gemini-pro-vision\", max_output_tokens=1024)\n",
    "\n",
    "    msg = model(\n",
    "        [\n",
    "            HumanMessage(\n",
    "                content=[\n",
    "                    {\n",
    "                        \"type\": \"text\",\n",
    "                        \"text\": prompt\n",
    "                    },\n",
    "                    {\n",
    "                        \"type\": \"image_url\",\n",
    "                        \"image_url\": {\"url\": f\"data:image/jpeg;base64,{image_base64}\"}\n",
    "                    },\n",
    "                ]\n",
    "            )\n",
    "        ]\n",
    "    )\n",
    "\n",
    "    return msg.content"
   ]
  },
  {
   "cell_type": "code",
   "execution_count": 16,
   "metadata": {},
   "outputs": [],
   "source": [
    "def generate_image_summaries(image_dir):\n",
    "    \"\"\"\n",
    "    Generates image summaries for retrieval.\n",
    "    Args:\n",
    "        image_dir (str): The directory path where the images are stored.\n",
    "    Returns:\n",
    "        tuple: A tuple containing two lists. The first list contains the base64 encoded images, \n",
    "        and the second list contains the generated image summaries.\n",
    "    \"\"\"\n",
    "\n",
    "    # Store base64 encoded images\n",
    "    image_base64_list = []\n",
    "\n",
    "    # Store image summaries\n",
    "    image_summaries = []\n",
    "\n",
    "    # Prompt\n",
    "    prompt = \"\"\"You are an assistant tasked with summarizing images for retrieval. \\\n",
    "        These summaries will be embedded and used to retrieve the raw image. \\\n",
    "        Give a concise summary of the image that is well optimized for retrieval.\"\"\"\n",
    "    \n",
    "    # Apply to images\n",
    "    for image in sorted(os.listdir(image_dir)):\n",
    "        if image.endswith(('.jpg', '.jpeg', '.png')):\n",
    "            image_path = os.path.join(image_dir, image)\n",
    "            image_base64 = encode_image(image_path)\n",
    "            image_base64_list.append(image_base64)\n",
    "            image_summaries.append(image_summarize(image_base64, prompt))\n",
    "        \n",
    "    return image_base64_list, image_summaries"
   ]
  },
  {
   "cell_type": "code",
   "execution_count": 17,
   "metadata": {},
   "outputs": [
    {
     "name": "stderr",
     "output_type": "stream",
     "text": [
      "/Users/ashutosh/Library/Python/3.9/lib/python/site-packages/langchain_core/_api/deprecation.py:139: LangChainDeprecationWarning: The method `BaseChatModel.__call__` was deprecated in langchain-core 0.1.7 and will be removed in 0.3.0. Use invoke instead.\n",
      "  warn_deprecated(\n",
      "I0000 00:00:1723109117.695666 1543806 check_gcp_environment_no_op.cc:29] ALTS: Platforms other than Linux and Windows are not supported\n",
      "I0000 00:00:1723109124.034544 1543806 check_gcp_environment_no_op.cc:29] ALTS: Platforms other than Linux and Windows are not supported\n",
      "I0000 00:00:1723109130.340735 1543806 check_gcp_environment_no_op.cc:29] ALTS: Platforms other than Linux and Windows are not supported\n",
      "I0000 00:00:1723109137.219150 1543806 check_gcp_environment_no_op.cc:29] ALTS: Platforms other than Linux and Windows are not supported\n",
      "I0000 00:00:1723109143.583298 1543806 check_gcp_environment_no_op.cc:29] ALTS: Platforms other than Linux and Windows are not supported\n"
     ]
    },
    {
     "data": {
      "text/plain": [
       "(5, 5)"
      ]
     },
     "execution_count": 17,
     "metadata": {},
     "output_type": "execute_result"
    }
   ],
   "source": [
    "# Image summaries\n",
    "image_base64_list, image_summaries = generate_image_summaries('./cj')\n",
    "len(image_summaries), len(image_base64_list)"
   ]
  },
  {
   "cell_type": "code",
   "execution_count": 18,
   "metadata": {},
   "outputs": [
    {
     "data": {
      "text/plain": [
       "' The image shows a line chart of EV/NTM revenue multiples over time. The three lines represent different growth rates. The high-growth median is the highest line, followed by the mid-growth median and the low-growth median. The chart shows that EV/NTM revenue multiples have been increasing over time, with the high-growth median reaching a peak of 11.8x in November 2021.'"
      ]
     },
     "execution_count": 18,
     "metadata": {},
     "output_type": "execute_result"
    }
   ],
   "source": [
    "image_summaries[0]"
   ]
  },
  {
   "cell_type": "markdown",
   "metadata": {},
   "source": [
    "# Multi-Vector Retrieval"
   ]
  },
  {
   "cell_type": "code",
   "execution_count": 19,
   "metadata": {},
   "outputs": [],
   "source": [
    "import uuid\n",
    "from langchain.retrievers.multi_vector import MultiVectorRetriever\n",
    "from langchain.storage import InMemoryStore\n",
    "from langchain_community.vectorstores import Chroma\n",
    "from langchain_core.documents import Document"
   ]
  },
  {
   "cell_type": "code",
   "execution_count": 20,
   "metadata": {},
   "outputs": [],
   "source": [
    "def create_multi_vector_retriever(\n",
    "        vectorstore, text_summaries, texts, table_summaries, tables, image_summaries, images\n",
    "):\n",
    "    \"\"\"\n",
    "    Create a multi-vector retriever.\n",
    "    Args:\n",
    "        vectorstore: The vectorstore used for vector representation.\n",
    "        text_summaries: List of text summaries.\n",
    "        texts: List of text contents.\n",
    "        table_summaries: List of table summaries.\n",
    "        tables: List of table contents.\n",
    "        image_summaries: List of image summaries.\n",
    "        images: List of image contents.\n",
    "    Returns:\n",
    "        retriever: The created multi-vector retriever.\n",
    "    \"\"\"\n",
    "    \n",
    "    # Initialize the storage layer\n",
    "    store = InMemoryStore()\n",
    "    id_key = \"doc_id\"\n",
    "\n",
    "    # Create the multi-vector retriever\n",
    "    retriever = MultiVectorRetriever(\n",
    "        vectorstore=vectorstore,\n",
    "        docstore=store,\n",
    "        id_key=id_key,\n",
    "    )\n",
    "\n",
    "    # Helper function to add documents to the vectorstore and docstore\n",
    "    def add_documents(retriever, doc_summaries, doc_contents):\n",
    "        doc_ids = [str(uuid.uuid4()) for _ in doc_contents]\n",
    "        summary_docs = [\n",
    "            Document(page_content=s, metadata={id_key: doc_ids[i]}) for i, s in enumerate(doc_summaries)\n",
    "        ]\n",
    "        retriever.vectorstore.add_documents(summary_docs)\n",
    "        retriever.docstore.mset(list(zip(doc_ids, doc_contents)))\n",
    "\n",
    "    # Add texts, tables and images\n",
    "    # Check if text summaries are available\n",
    "    if text_summaries:\n",
    "        add_documents(retriever, text_summaries, texts)\n",
    "\n",
    "    # Check if table summaries are available\n",
    "    if table_summaries:\n",
    "        add_documents(retriever, table_summaries, tables)\n",
    "\n",
    "    # Check if image summaries are available\n",
    "    if image_summaries:\n",
    "        add_documents(retriever, image_summaries, images)\n",
    "\n",
    "    return retriever"
   ]
  },
  {
   "cell_type": "code",
   "execution_count": 21,
   "metadata": {},
   "outputs": [
    {
     "name": "stderr",
     "output_type": "stream",
     "text": [
      "I0000 00:00:1723109149.705593 1543806 check_gcp_environment_no_op.cc:29] ALTS: Platforms other than Linux and Windows are not supported\n",
      "/Users/ashutosh/Library/Python/3.9/lib/python/site-packages/langchain_core/_api/deprecation.py:139: LangChainDeprecationWarning: The class `Chroma` was deprecated in LangChain 0.2.9 and will be removed in 0.4. An updated version of the class exists in the langchain-chroma package and should be used instead. To use it run `pip install -U langchain-chroma` and import as `from langchain_chroma import Chroma`.\n",
      "  warn_deprecated(\n",
      "INFO:chromadb.telemetry.product.posthog:Anonymized telemetry enabled. See                     https://docs.trychroma.com/telemetry for more information.\n",
      "I0000 00:00:1723109151.914867 1543806 check_gcp_environment_no_op.cc:29] ALTS: Platforms other than Linux and Windows are not supported\n",
      "I0000 00:00:1723109151.915342 1543806 check_gcp_environment_no_op.cc:29] ALTS: Platforms other than Linux and Windows are not supported\n"
     ]
    }
   ],
   "source": [
    "# The vectorstore to use to index the summaries\n",
    "vectorstore = Chroma(\n",
    "    collection_name=\"mm_rag\",\n",
    "    embedding_function=VertexAIEmbeddings(model_name=\"textembedding-gecko@latest\"),\n",
    ")\n",
    "\n",
    "# Create the retriever\n",
    "retriever_multi_vector_img = create_multi_vector_retriever(\n",
    "    vectorstore=vectorstore,\n",
    "    text_summaries=text_summaries,\n",
    "    texts=texts,\n",
    "    table_summaries=table_summaries,\n",
    "    tables=tables,\n",
    "    image_summaries=image_summaries,\n",
    "    images=image_base64_list,\n",
    ")"
   ]
  },
  {
   "cell_type": "markdown",
   "metadata": {},
   "source": [
    "# Utility functions"
   ]
  },
  {
   "cell_type": "code",
   "execution_count": 22,
   "metadata": {},
   "outputs": [],
   "source": [
    "import io\n",
    "import re\n",
    "\n",
    "from IPython.display import display, HTML\n",
    "from langchain_core.runnables import RunnableLambda, RunnablePassthrough\n",
    "from PIL import Image"
   ]
  },
  {
   "cell_type": "code",
   "execution_count": 23,
   "metadata": {},
   "outputs": [],
   "source": [
    "def display_image_base64(image_base64):\n",
    "    \"\"\"\n",
    "    Display the image represented by the base64 encoded string.\n",
    "    Args:\n",
    "        image_base64 (str): The base64 encoded string representing the image.\n",
    "    \"\"\"\n",
    "\n",
    "    # Create an HTML img tag with the base64 encoded string as the source\n",
    "    image_html = f'<img src=\"data:image/jpeg;base64,{image_base64}\" alt=\"image\" />'\n",
    "\n",
    "    # Display the image by rendering the HTML\n",
    "    display(HTML(image_html))"
   ]
  },
  {
   "cell_type": "code",
   "execution_count": 24,
   "metadata": {},
   "outputs": [],
   "source": [
    "def is_base64(sb):\n",
    "    \"\"\"\n",
    "    Check if the given string is a base64 encoded string.\n",
    "    Args:\n",
    "        sb (str): The string to check.\n",
    "    Returns:\n",
    "        bool: True if the string is base64 encoded, False otherwise.\n",
    "    \"\"\"\n",
    "    \n",
    "    # Check if the string looks like base64\n",
    "    return re.match(r'^[A-Za-z0-9+/]+[=]{0,2}$', sb) is not None"
   ]
  },
  {
   "cell_type": "code",
   "execution_count": 25,
   "metadata": {},
   "outputs": [],
   "source": [
    "def is_image_data(b64data):\n",
    "    \"\"\"\n",
    "    Check if the given base64 encoded string represents an image.\n",
    "    Args:\n",
    "        b64data (str): The base64 encoded string.\n",
    "    Returns:\n",
    "        bool: True if the string represents an image, False otherwise.\n",
    "    \"\"\"\n",
    "    \n",
    "    # Check if the string starts with the image data prefix\n",
    "    image_signatures = {\n",
    "        b\"\\xFF\\xD8\\xFF\": \"jpg\",\n",
    "        b\"\\xFF\\xD8\\xFF\\xE0\": \"jpeg\",\n",
    "        b\"\\x89\\x50\\x4E\\x47\\x0D\\x0A\\x1A\\x0A\": \"png\",\n",
    "        b\"\\x47\\x49\\x46\\x38\": \"gif\",\n",
    "        b\"\\x52\\x49\\x46\\x46\": \"webp\",\n",
    "    }\n",
    "    \n",
    "    try:\n",
    "        header = base64.b64decode(b64data)[:8]     # Decode and Get the first 8 bytes\n",
    "        for sig, format in image_signatures.items():\n",
    "            if header.startswith(sig):\n",
    "                return True\n",
    "            return False\n",
    "    except Exception:\n",
    "        return False"
   ]
  },
  {
   "cell_type": "code",
   "execution_count": 26,
   "metadata": {},
   "outputs": [],
   "source": [
    "def resize_base64_image(base64_str, size=(224, 224)):\n",
    "    \"\"\"\n",
    "    Resize the image represented by the base64 encoded string to the given size.\n",
    "    Args:\n",
    "        base64_str (str): The base64 encoded string representing the image.\n",
    "        size (tuple, optional): The size to resize the image to. Defaults to (400, 400).\n",
    "    Returns:\n",
    "        str: The base64 encoded string representing the resized image.\n",
    "    \"\"\"\n",
    "    \n",
    "    # Decode the base64 string into a PIL image\n",
    "    image = Image.open(io.BytesIO(base64.b64decode(base64_str)))\n",
    "    format = image.format\n",
    "    \n",
    "    # Resize the image\n",
    "    image = image.resize(size, Image.LANCZOS)\n",
    "    \n",
    "    # Encode the resized image back to base64\n",
    "    buffered = io.BytesIO()\n",
    "    image.save(buffered, format=format)\n",
    "    return base64.b64encode(buffered.getvalue()).decode(\"utf-8\")"
   ]
  },
  {
   "cell_type": "code",
   "execution_count": 27,
   "metadata": {},
   "outputs": [],
   "source": [
    "def split_image_text_types(docs):\n",
    "    \"\"\"\n",
    "    Split the given documents into image and text types.\n",
    "    Args:\n",
    "        docs (list): The list of documents to split.\n",
    "    Returns:\n",
    "        dict: A dictionary containing the image and text type documents.\n",
    "    \"\"\"\n",
    "    \n",
    "    # Initialize the image and text type documents\n",
    "    image_docs = []\n",
    "    text_docs = []\n",
    "    \n",
    "    # Check if the document is an image or text type\n",
    "    for doc in docs:\n",
    "        # Check if the document is a Document object\n",
    "        if isinstance(doc, Document):\n",
    "            doc = doc.page_content\n",
    "\n",
    "        # Check if the document is base64 encoded and represents an image\n",
    "        if is_base64(doc) and is_image_data(doc):\n",
    "            doc = resize_base64_image(doc, size=(1300, 600))\n",
    "            image_docs.append(doc)\n",
    "        else:\n",
    "            text_docs.append(doc)\n",
    "\n",
    "    if len(image_docs) > 0:\n",
    "        return {\"images\": image_docs[:1], \"texts\": []} # Only return the first image if there are multiple images\n",
    "    \n",
    "    return {\"images\": image_docs, \"texts\": text_docs}"
   ]
  },
  {
   "cell_type": "code",
   "execution_count": 28,
   "metadata": {},
   "outputs": [],
   "source": [
    "def image_prompt_func(data_dict):\n",
    "    \"\"\"\n",
    "    Generates a list of messages for a financial analyst to provide investment advice based on given data.\n",
    "    Parameters:\n",
    "    - data_dict (dict): A dictionary containing the following keys:\n",
    "        - \"context\" (dict): A dictionary containing the following keys:\n",
    "            - \"texts\" (list): A list of strings representing the context texts.\n",
    "            - \"images\" (list): A list of image data in base64 format.\n",
    "        - \"question\" (str): The user's question.\n",
    "    Returns:\n",
    "    - list: A list of messages to be sent as a response, including text and image messages.\n",
    "    \"\"\"\n",
    "\n",
    "    formatted_texts = \"\\n\".join(data_dict[\"context\"][\"texts\"])\n",
    "    messages = []\n",
    "\n",
    "    # Adding the text for analysis\n",
    "    text_message = {\n",
    "        \"type\": \"text\",\n",
    "        \"text\": (\n",
    "            \"You are a financial analyst tasked with providing investment advice. \\n\"\n",
    "            \"You will be given a mixed of text, tables, and image(s) usually of charts or graphs. \\n\"\n",
    "            \"Use this information to provide investment advice related to the user question. \\n\"\n",
    "            f\"User-provided question: {data_dict['question']}\\n\\n\"\n",
    "            \"Text and / or tables:\\n\"\n",
    "            f\"{formatted_texts}\"\n",
    "        ),\n",
    "    }\n",
    "\n",
    "    messages.append(text_message)\n",
    "\n",
    "    # Adding image(s) to the messages if present\n",
    "    if data_dict[\"context\"][\"images\"]:\n",
    "        for image in data_dict[\"context\"][\"images\"]:\n",
    "            image_message = {\n",
    "                \"type\": \"image_url\",\n",
    "                \"image_url\": {\"url\": f\"data:image/jpeg;base64,{image}\"},\n",
    "            }\n",
    "            messages.append(image_message)\n",
    "    return [HumanMessage(content=messages)]"
   ]
  },
  {
   "cell_type": "markdown",
   "metadata": {},
   "source": [
    "# Multi-Modal RAG Chain"
   ]
  },
  {
   "cell_type": "code",
   "execution_count": 29,
   "metadata": {},
   "outputs": [],
   "source": [
    "def multi_modal_rag_chain(retriever):\n",
    "    \"\"\"\n",
    "    Constructs a RAG (Retrieval-Augmented Generation) pipeline for multi-modal inputs.\n",
    "    Args:\n",
    "        retriever: The retriever component used to retrieve relevant information.\n",
    "    Returns:\n",
    "        The RAG pipeline for multi-modal inputs.\n",
    "    \"\"\"\n",
    "\n",
    "    # Multi-modal LLM\n",
    "    model = ChatVertexAI(\n",
    "        temperature=0,\n",
    "        model_name=\"gemini-pro-vision\",\n",
    "        max_output_tokens=1024,\n",
    "    )\n",
    "\n",
    "    # RAG Pipeline\n",
    "    chain = (\n",
    "        {\n",
    "            \"context\": retriever | RunnableLambda(split_image_text_types),\n",
    "            \"question\": RunnablePassthrough(),\n",
    "        }\n",
    "        | RunnableLambda(image_prompt_func)\n",
    "        | model\n",
    "        | StrOutputParser()\n",
    "    )\n",
    "\n",
    "    return chain"
   ]
  },
  {
   "cell_type": "code",
   "execution_count": 30,
   "metadata": {},
   "outputs": [],
   "source": [
    "# Create RAG chain\n",
    "chain_multimodal_rag = multi_modal_rag_chain(retriever_multi_vector_img)"
   ]
  },
  {
   "cell_type": "markdown",
   "metadata": {},
   "source": [
    "# Test your Queries"
   ]
  },
  {
   "cell_type": "code",
   "execution_count": 31,
   "metadata": {},
   "outputs": [
    {
     "name": "stderr",
     "output_type": "stream",
     "text": [
      "/Users/ashutosh/Library/Python/3.9/lib/python/site-packages/langchain_core/_api/deprecation.py:139: LangChainDeprecationWarning: The method `BaseRetriever.get_relevant_documents` was deprecated in langchain-core 0.1.46 and will be removed in 0.3.0. Use invoke instead.\n",
      "  warn_deprecated(\n"
     ]
    }
   ],
   "source": [
    "query = \"What are the EV / NTM and NTM rev growth for MongoDB, Cloudflare, and Datadog?\"\n",
    "docs = retriever_multi_vector_img.get_relevant_documents(query, limit=1)"
   ]
  },
  {
   "cell_type": "code",
   "execution_count": 32,
   "metadata": {},
   "outputs": [
    {
     "data": {
      "text/plain": [
       "4"
      ]
     },
     "execution_count": 32,
     "metadata": {},
     "output_type": "execute_result"
    }
   ],
   "source": [
    "len(docs)"
   ]
  },
  {
   "cell_type": "code",
   "execution_count": 38,
   "metadata": {},
   "outputs": [],
   "source": [
    "# docs"
   ]
  },
  {
   "cell_type": "code",
   "execution_count": 39,
   "metadata": {},
   "outputs": [
    {
     "data": {
      "text/html": [
       "<img src=\"data:image/jpeg;base64,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\" alt=\"image\" />"
      ],
      "text/plain": [
       "<IPython.core.display.HTML object>"
      ]
     },
     "metadata": {},
     "output_type": "display_data"
    }
   ],
   "source": [
    "display_image_base64(docs[2])"
   ]
  },
  {
   "cell_type": "code",
   "execution_count": 40,
   "metadata": {},
   "outputs": [
    {
     "data": {
      "text/markdown": [
       " | Company | EV/NTM Rev | NTM Rev Growth |\n",
       "|---|---|---|\n",
       "| MongoDB | 14.6x | 17% |\n",
       "| Cloudflare | 13.4x | 28% |\n",
       "| Datadog | 13.1x | 19% |"
      ],
      "text/plain": [
       "<IPython.core.display.Markdown object>"
      ]
     },
     "execution_count": 40,
     "metadata": {},
     "output_type": "execute_result"
    }
   ],
   "source": [
    "result = chain_multimodal_rag.invoke(query)\n",
    "\n",
    "from IPython.display import Markdown as md\n",
    "md(result)"
   ]
  },
  {
   "cell_type": "code",
   "execution_count": null,
   "metadata": {},
   "outputs": [],
   "source": []
  }
 ],
 "metadata": {
  "kernelspec": {
   "display_name": "llm-venv",
   "language": "python",
   "name": "llm-venv"
  },
  "language_info": {
   "codemirror_mode": {
    "name": "ipython",
    "version": 3
   },
   "file_extension": ".py",
   "mimetype": "text/x-python",
   "name": "python",
   "nbconvert_exporter": "python",
   "pygments_lexer": "ipython3",
   "version": "3.9.6"
  }
 },
 "nbformat": 4,
 "nbformat_minor": 2
}
